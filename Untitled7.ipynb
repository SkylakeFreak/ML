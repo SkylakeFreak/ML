{
 "cells": [
  {
   "cell_type": "code",
   "execution_count": 5,
   "id": "3b9b01fd",
   "metadata": {},
   "outputs": [],
   "source": [
    "#Import all the required modules"
   ]
  },
  {
   "cell_type": "code",
   "execution_count": 18,
   "id": "4fd7925b",
   "metadata": {},
   "outputs": [],
   "source": [
    "import numpy as np\n",
    "import matplotlib.pyplot as plt\n",
    "from matplotlib import colors\n",
    "from sklearn.datasets import make_blobs\n",
    "%matplotlib inline\n",
    "np.random.seed(3)"
   ]
  },
  {
   "cell_type": "code",
   "execution_count": 19,
   "id": "f11ae9c3",
   "metadata": {},
   "outputs": [],
   "source": [
    "#Single Percepteron Neural Network With Acitvation Function"
   ]
  },
  {
   "cell_type": "code",
   "execution_count": 35,
   "id": "807de667",
   "metadata": {},
   "outputs": [],
   "source": [
    "m=30\n",
    "X=np.random.randint(0,2,(2,m))\n",
    "Y=np.logical_and(X[0]==0, X[1]==1).astype(int).reshape((1,m))"
   ]
  },
  {
   "cell_type": "code",
   "execution_count": 36,
   "id": "bb144099",
   "metadata": {},
   "outputs": [
    {
     "name": "stdout",
     "output_type": "stream",
     "text": [
      "Training dataset X containing (x1, x2) coordinates in the columns:\n",
      "[[0 0 0 0 0 0 1 1 1 0 1 1 1 1 1 1 0 0 1 1 0 0 0 0 1 1 0 0 0 1]\n",
      " [1 1 0 1 0 1 1 0 1 0 1 0 0 1 1 1 0 1 0 1 1 0 0 1 1 0 0 0 0 1]]\n",
      "Training dataset Y containing labels of two classes (0: blue, 1: red)\n",
      "[[1 1 0 1 0 1 0 0 0 0 0 0 0 0 0 0 0 1 0 0 1 0 0 1 0 0 0 0 0 0]]\n",
      "The shape of X is: (2, 30)\n",
      "The shape of Y is: (1, 30)\n",
      "I have m = 30 training examples!\n"
     ]
    }
   ],
   "source": [
    "print('Training dataset X containing (x1, x2) coordinates in the columns:')\n",
    "print(X)\n",
    "print('Training dataset Y containing labels of two classes (0: blue, 1: red)')\n",
    "print(Y)\n",
    "\n",
    "print ('The shape of X is: ' + str(X.shape))\n",
    "print ('The shape of Y is: ' + str(Y.shape))\n",
    "print ('I have m = %d training examples!' % (X.shape[1]))\n"
   ]
  },
  {
   "cell_type": "code",
   "execution_count": 37,
   "id": "5783c299",
   "metadata": {},
   "outputs": [],
   "source": [
    "#Defining Activation Function"
   ]
  },
  {
   "cell_type": "code",
   "execution_count": 38,
   "id": "a1d1955c",
   "metadata": {},
   "outputs": [],
   "source": [
    "def sigmoid(z):\n",
    "    return 1/(1 + np.exp(-z))"
   ]
  },
  {
   "cell_type": "code",
   "execution_count": 39,
   "id": "b92af92c",
   "metadata": {},
   "outputs": [],
   "source": [
    "#Implementation of Neural Network"
   ]
  },
  {
   "cell_type": "code",
   "execution_count": 40,
   "id": "a1f2055d",
   "metadata": {},
   "outputs": [
    {
     "name": "stdout",
     "output_type": "stream",
     "text": [
      "The size of the input layer is: n_x = 2\n",
      "The size of the output layer is: n_y = 1\n"
     ]
    }
   ],
   "source": [
    "def layer_sizes(X, Y):\n",
    "\n",
    "    n_x = X.shape[0]\n",
    "    n_y = Y.shape[0]\n",
    "    \n",
    "    return (n_x, n_y)\n",
    "\n",
    "(n_x, n_y) = layer_sizes(X, Y)\n",
    "print(\"The size of the input layer is: n_x = \" + str(n_x))\n",
    "print(\"The size of the output layer is: n_y = \" + str(n_y))"
   ]
  },
  {
   "cell_type": "code",
   "execution_count": 41,
   "id": "f12e7f91",
   "metadata": {},
   "outputs": [],
   "source": [
    "#Initializing parameters"
   ]
  },
  {
   "cell_type": "code",
   "execution_count": 46,
   "id": "e9a37dcb",
   "metadata": {},
   "outputs": [
    {
     "name": "stdout",
     "output_type": "stream",
     "text": [
      "W = [[ 0.00362803 -0.01159036]]\n",
      "b = [[0.]]\n"
     ]
    }
   ],
   "source": [
    "def initialize_parameters(n_x, n_y):\n",
    "\n",
    "    W = np.random.randn(n_y, n_x) * 0.01\n",
    "    b = np.zeros((n_y,1))\n",
    "\n",
    "    parameters = {\"W\": W,\n",
    "                  \"b\": b}\n",
    "    \n",
    "    return parameters\n",
    "\n",
    "parameters = initialize_parameters(n_x, n_y)\n",
    "print(\"W = \" + str(parameters[\"W\"]))\n",
    "print(\"b = \" + str(parameters[\"b\"]))"
   ]
  },
  {
   "cell_type": "code",
   "execution_count": 47,
   "id": "3d22b2e6",
   "metadata": {},
   "outputs": [],
   "source": [
    "#Forward Propogation\n",
    "#Forward propagation is where input data is fed through a network, in a forward direction, to generate an output. The data is accepted by hidden layers and processed, as per the activation function, and moves to the successive layer. The forward flow of data is designed to avoid data moving in a circular motion, which does not generate an output."
   ]
  },
  {
   "cell_type": "code",
   "execution_count": 48,
   "id": "e8d54c56",
   "metadata": {},
   "outputs": [
    {
     "name": "stdout",
     "output_type": "stream",
     "text": [
      "Output vector A: [[0.49710244 0.49710244 0.5        0.49710244 0.5        0.49710244\n",
      "  0.49800943 0.50090701 0.49800943 0.5        0.49800943 0.50090701\n",
      "  0.50090701 0.49800943 0.49800943 0.49800943 0.5        0.49710244\n",
      "  0.50090701 0.49800943 0.49710244 0.5        0.5        0.49710244\n",
      "  0.49800943 0.50090701 0.5        0.5        0.5        0.49800943]]\n"
     ]
    }
   ],
   "source": [
    "def forward_propagation(X, parameters):\n",
    "\n",
    "    W = parameters[\"W\"]\n",
    "    b = parameters[\"b\"]\n",
    "    \n",
    "    # Forward Propagation to calculate Z.\n",
    "    Z = np.matmul(W, X) + b\n",
    "    A = sigmoid(Z)\n",
    "\n",
    "    return A\n",
    "\n",
    "A = forward_propagation(X, parameters)\n",
    "\n",
    "print(\"Output vector A:\", A)"
   ]
  },
  {
   "cell_type": "code",
   "execution_count": 49,
   "id": "d2ca8bd0",
   "metadata": {},
   "outputs": [],
   "source": [
    "#Compute cost"
   ]
  },
  {
   "cell_type": "code",
   "execution_count": 53,
   "id": "53c659cd",
   "metadata": {},
   "outputs": [
    {
     "name": "stdout",
     "output_type": "stream",
     "text": [
      "cost = 0.6936139463332278\n"
     ]
    }
   ],
   "source": [
    "def compute_cost(A, Y):\n",
    "\n",
    "    # Number of examples.\n",
    "    m = Y.shape[1]  \n",
    "\n",
    "    # Compute the cost function.\n",
    "    logprobs = np.multiply(np.log(A),Y) + np.multiply(np.log(1 - A),1 - Y)\n",
    "    cost = - 1/m * np.sum(logprobs)\n",
    "    \n",
    "    return cost\n",
    "\n",
    "print(\"cost = \" + str(compute_cost(A, Y)))"
   ]
  },
  {
   "cell_type": "code",
   "execution_count": 54,
   "id": "1d1be3c3",
   "metadata": {},
   "outputs": [],
   "source": [
    "#Backward Propogation"
   ]
  },
  {
   "cell_type": "code",
   "execution_count": 55,
   "id": "3709948d",
   "metadata": {},
   "outputs": [
    {
     "name": "stdout",
     "output_type": "stream",
     "text": [
      "dW = [[0.23288733 0.03206006]]\n",
      "db = [[0.26554457]]\n"
     ]
    }
   ],
   "source": [
    "def backward_propagation(A, X, Y):\n",
    "\n",
    "    m = X.shape[1]\n",
    "    \n",
    "    # Backward propagation: calculate partial derivatives denoted as dW, db for simplicity. \n",
    "    dZ = A - Y\n",
    "    dW = 1/m * np.dot(dZ, X.T)\n",
    "    db = 1/m * np.sum(dZ, axis = 1, keepdims = True)\n",
    "    \n",
    "    grads = {\"dW\": dW,\n",
    "             \"db\": db}\n",
    "    \n",
    "    return grads\n",
    "\n",
    "grads = backward_propagation(A, X, Y)\n",
    "\n",
    "print(\"dW = \" + str(grads[\"dW\"]))\n",
    "print(\"db = \" + str(grads[\"db\"]))"
   ]
  },
  {
   "cell_type": "code",
   "execution_count": 56,
   "id": "8f16c6fe",
   "metadata": {},
   "outputs": [],
   "source": [
    "#Update Parameters"
   ]
  },
  {
   "cell_type": "code",
   "execution_count": 57,
   "id": "7caabb55",
   "metadata": {},
   "outputs": [
    {
     "name": "stdout",
     "output_type": "stream",
     "text": [
      "W updated = [[-0.27583676 -0.05006244]]\n",
      "b updated = [[-0.31865348]]\n"
     ]
    }
   ],
   "source": [
    "def update_parameters(parameters, grads, learning_rate=1.2):\n",
    "\n",
    "    # Retrieve each parameter from the dictionary \"parameters\".\n",
    "    W = parameters[\"W\"]\n",
    "    b = parameters[\"b\"]\n",
    "    \n",
    "    # Retrieve each gradient from the dictionary \"grads\".\n",
    "    dW = grads[\"dW\"]\n",
    "    db = grads[\"db\"]\n",
    "    \n",
    "    # Update rule for each parameter.\n",
    "    W = W - learning_rate * dW\n",
    "    b = b - learning_rate * db\n",
    "    \n",
    "    parameters = {\"W\": W,\n",
    "                  \"b\": b}\n",
    "    \n",
    "    return parameters\n",
    "\n",
    "parameters_updated = update_parameters(parameters, grads)\n",
    "\n",
    "print(\"W updated = \" + str(parameters_updated[\"W\"]))\n",
    "print(\"b updated = \" + str(parameters_updated[\"b\"]))"
   ]
  },
  {
   "cell_type": "code",
   "execution_count": 58,
   "id": "6af3360a",
   "metadata": {},
   "outputs": [],
   "source": [
    "#Neural Network Model"
   ]
  },
  {
   "cell_type": "code",
   "execution_count": 59,
   "id": "4a717791",
   "metadata": {},
   "outputs": [],
   "source": [
    "def nn_model(X, Y, num_iterations=10, learning_rate=1.2, print_cost=False):\n",
    "\n",
    "    \n",
    "    n_x = layer_sizes(X, Y)[0]\n",
    "    n_y = layer_sizes(X, Y)[1]\n",
    "    \n",
    "    parameters = initialize_parameters(n_x, n_y)\n",
    "    \n",
    "    # Loop\n",
    "    for i in range(0, num_iterations):\n",
    "         \n",
    "        # Forward propagation. Inputs: \"X, parameters\". Outputs: \"A\".\n",
    "        A = forward_propagation(X, parameters)\n",
    "        \n",
    "        # Cost function. Inputs: \"A, Y\". Outputs: \"cost\".\n",
    "        cost = compute_cost(A, Y)\n",
    "        \n",
    "        # Backpropagation. Inputs: \"A, X, Y\". Outputs: \"grads\".\n",
    "        grads = backward_propagation(A, X, Y)\n",
    "    \n",
    "        # Gradient descent parameter update. Inputs: \"parameters, grads, learning_rate\". Outputs: \"parameters\".\n",
    "        parameters = update_parameters(parameters, grads, learning_rate)\n",
    "        \n",
    "        # Print the cost every iteration.\n",
    "        if print_cost:\n",
    "            print (\"Cost after iteration %i: %f\" %(i, cost))\n",
    "\n",
    "    return parameters"
   ]
  },
  {
   "cell_type": "code",
   "execution_count": 60,
   "id": "1d72c399",
   "metadata": {},
   "outputs": [
    {
     "name": "stdout",
     "output_type": "stream",
     "text": [
      "Cost after iteration 0: 0.696986\n",
      "Cost after iteration 1: 0.572454\n",
      "Cost after iteration 2: 0.519200\n",
      "Cost after iteration 3: 0.486394\n",
      "Cost after iteration 4: 0.461169\n",
      "Cost after iteration 5: 0.439657\n",
      "Cost after iteration 6: 0.420463\n",
      "Cost after iteration 7: 0.402989\n",
      "Cost after iteration 8: 0.386923\n",
      "Cost after iteration 9: 0.372070\n",
      "Cost after iteration 10: 0.358289\n",
      "Cost after iteration 11: 0.345464\n",
      "Cost after iteration 12: 0.333500\n",
      "Cost after iteration 13: 0.322313\n",
      "Cost after iteration 14: 0.311829\n",
      "Cost after iteration 15: 0.301985\n",
      "Cost after iteration 16: 0.292722\n",
      "Cost after iteration 17: 0.283991\n",
      "Cost after iteration 18: 0.275747\n",
      "Cost after iteration 19: 0.267950\n",
      "Cost after iteration 20: 0.260564\n",
      "Cost after iteration 21: 0.253556\n",
      "Cost after iteration 22: 0.246899\n",
      "Cost after iteration 23: 0.240567\n",
      "Cost after iteration 24: 0.234536\n",
      "Cost after iteration 25: 0.228785\n",
      "Cost after iteration 26: 0.223295\n",
      "Cost after iteration 27: 0.218049\n",
      "Cost after iteration 28: 0.213031\n",
      "Cost after iteration 29: 0.208225\n",
      "Cost after iteration 30: 0.203621\n",
      "Cost after iteration 31: 0.199203\n",
      "Cost after iteration 32: 0.194963\n",
      "Cost after iteration 33: 0.190889\n",
      "Cost after iteration 34: 0.186973\n",
      "Cost after iteration 35: 0.183204\n",
      "Cost after iteration 36: 0.179575\n",
      "Cost after iteration 37: 0.176079\n",
      "Cost after iteration 38: 0.172708\n",
      "Cost after iteration 39: 0.169457\n",
      "Cost after iteration 40: 0.166318\n",
      "Cost after iteration 41: 0.163287\n",
      "Cost after iteration 42: 0.160357\n",
      "Cost after iteration 43: 0.157525\n",
      "Cost after iteration 44: 0.154784\n",
      "Cost after iteration 45: 0.152132\n",
      "Cost after iteration 46: 0.149564\n",
      "Cost after iteration 47: 0.147076\n",
      "Cost after iteration 48: 0.144665\n",
      "Cost after iteration 49: 0.142327\n",
      "W = [[-3.42086833  2.95290678]]\n",
      "b = [[-1.82126283]]\n"
     ]
    }
   ],
   "source": [
    "parameters = nn_model(X, Y, num_iterations=50, learning_rate=1.2, print_cost=True)\n",
    "print(\"W = \" + str(parameters[\"W\"]))\n",
    "print(\"b = \" + str(parameters[\"b\"]))"
   ]
  },
  {
   "cell_type": "code",
   "execution_count": 61,
   "id": "3d9becf4",
   "metadata": {},
   "outputs": [],
   "source": [
    "#Plotting final summary"
   ]
  },
  {
   "cell_type": "code",
   "execution_count": 62,
   "id": "bcc672ab",
   "metadata": {},
   "outputs": [
    {
     "data": {
      "image/png": "[encoded data removed]",
      "text/plain": [
       "<Figure size 640x480 with 1 Axes>"
      ]
     },
     "metadata": {},
     "output_type": "display_data"
    }
   ],
   "source": [
    "def plot_decision_boundary(X, Y, parameters):\n",
    "    W = parameters[\"W\"]\n",
    "    b = parameters[\"b\"]\n",
    "\n",
    "    fig, ax = plt.subplots()\n",
    "    plt.scatter(X[0, :], X[1, :], c=Y, cmap=colors.ListedColormap(['blue', 'red']));\n",
    "    \n",
    "    x_line = np.arange(np.min(X[0,:]),np.max(X[0,:])*1.1, 0.1)\n",
    "    ax.plot(x_line, - W[0,0] / W[0,1] * x_line + -b[0,0] / W[0,1] , color=\"black\")\n",
    "    plt.plot()\n",
    "    plt.show()\n",
    "    \n",
    "plot_decision_boundary(X, Y, parameters)"
   ]
  },
  {
   "cell_type": "code",
   "execution_count": 63,
   "id": "265df654",
   "metadata": {},
   "outputs": [],
   "source": [
    "#Making some final predictions"
   ]
  },
  {
   "cell_type": "code",
   "execution_count": 64,
   "id": "e89c8651",
   "metadata": {},
   "outputs": [
    {
     "name": "stdout",
     "output_type": "stream",
     "text": [
      "Coordinates (in the columns):\n",
      "[[1 1 0 0]\n",
      " [0 1 0 1]]\n",
      "Predictions:\n",
      "[[False False False  True]]\n"
     ]
    }
   ],
   "source": [
    "def predict(X, parameters):\n",
    "    \"\"\"\n",
    "    Using the learned parameters, predicts a class for each example in X\n",
    "    \n",
    "    Arguments:\n",
    "    parameters -- python dictionary containing your parameters \n",
    "    X -- input data of size (n_x, m)\n",
    "    \n",
    "    Returns\n",
    "    predictions -- vector of predictions of our model (blue: False / red: True)\n",
    "    \"\"\"\n",
    "    \n",
    "    # Computes probabilities using forward propagation, and classifies to 0/1 using 0.5 as the threshold.\n",
    "    A = forward_propagation(X, parameters)\n",
    "    predictions = A > 0.5\n",
    "    \n",
    "    return predictions\n",
    "\n",
    "X_pred = np.array([[1, 1, 0, 0],\n",
    "                   [0, 1, 0, 1]])\n",
    "Y_pred = predict(X_pred, parameters)\n",
    "\n",
    "print(f\"Coordinates (in the columns):\\n{X_pred}\")\n",
    "print(f\"Predictions:\\n{Y_pred}\")"
   ]
  },
  {
   "cell_type": "code",
   "execution_count": null,
   "id": "86e7d979",
   "metadata": {},
   "outputs": [],
   "source": []
  }
 ],
 "metadata": {
  "kernelspec": {
   "display_name": "Python 3 (ipykernel)",
   "language": "python",
   "name": "python3"
  },
  "language_info": {
   "codemirror_mode": {
    "name": "ipython",
    "version": 3
   },
   "file_extension": ".py",
   "mimetype": "text/x-python",
   "name": "python",
   "nbconvert_exporter": "python",
   "pygments_lexer": "ipython3",
   "version": "3.9.13"
  }
 },
 "nbformat": 4,
 "nbformat_minor": 5
}
